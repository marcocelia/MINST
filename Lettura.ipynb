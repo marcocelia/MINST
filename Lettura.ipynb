{
 "cells": [
  {
   "cell_type": "code",
   "execution_count": null,
   "metadata": {},
   "outputs": [],
   "source": [
    "dataset_path = os.path.join(os.getcwd(), \"MNIST\")"
   ]
  },
  {
   "cell_type": "markdown",
   "metadata": {},
   "source": [
    "# TEST"
   ]
  },
  {
   "cell_type": "code",
   "execution_count": null,
   "metadata": {
    "executionInfo": {
     "elapsed": 851,
     "status": "ok",
     "timestamp": 1608385886746,
     "user": {
      "displayName": "Giuseppe Iacono",
      "photoUrl": "",
      "userId": "10217054117557747336"
     },
     "user_tz": -60
    },
    "id": "umkgxph9kfMQ"
   },
   "outputs": [],
   "source": [
    "def load_mnist(path, kind='train'):\n",
    "    import os\n",
    "    import gzip\n",
    "    import numpy as np\n",
    "\n",
    "    \"\"\"Load MNIST data from `path`\"\"\"\n",
    "    labels_path = os.path.join(path,\n",
    "                               '%s-labels-idx1-ubyte.gz'\n",
    "                               % kind)\n",
    "    images_path = os.path.join(path,\n",
    "                               '%s-images-idx3-ubyte.gz'\n",
    "                               % kind)\n",
    "\n",
    "    with gzip.open(labels_path, 'rb') as lbpath:\n",
    "        labels = np.frombuffer(lbpath.read(), dtype=np.uint8,\n",
    "                               offset=8)\n",
    "\n",
    "    with gzip.open(images_path, 'rb') as imgpath:\n",
    "        images = np.frombuffer(imgpath.read(), dtype=np.uint8,\n",
    "                               offset=16).reshape(len(labels), 784)\n",
    "\n",
    "    return images, labels"
   ]
  },
  {
   "cell_type": "code",
   "execution_count": null,
   "metadata": {
    "executionInfo": {
     "elapsed": 957,
     "status": "ok",
     "timestamp": 1608385964198,
     "user": {
      "displayName": "Giuseppe Iacono",
      "photoUrl": "",
      "userId": "10217054117557747336"
     },
     "user_tz": -60
    },
    "id": "eBakZoGdkfMR"
   },
   "outputs": [],
   "source": [
    "images_train, label_train = load_mnist(dataset_path)\n",
    "images_test, label_test = load_mnist(dataset_path, kind= 't10k')"
   ]
  },
  {
   "cell_type": "markdown",
   "metadata": {
    "id": "xoJu3x5YkfMR"
   },
   "source": [
    "### Categorie\n",
    "```\n",
    "0 T-shirt/top\n",
    "1 Trouser\n",
    "2 Pullover\n",
    "3 Dress\n",
    "4 Coat\n",
    "5 Sandal\n",
    "6 Shirt\n",
    "7 Sneaker\n",
    "8 Bag\n",
    "9 Ankle boot\n",
    "```"
   ]
  },
  {
   "cell_type": "code",
   "execution_count": 11,
   "metadata": {
    "executionInfo": {
     "elapsed": 4884,
     "status": "ok",
     "timestamp": 1608385816770,
     "user": {
      "displayName": "Giuseppe Iacono",
      "photoUrl": "",
      "userId": "10217054117557747336"
     },
     "user_tz": -60
    },
    "id": "5ds31wpl1jLR"
   },
   "outputs": [
    {
     "ename": "ModuleNotFoundError",
     "evalue": "No module named 'torch'",
     "output_type": "error",
     "traceback": [
      "\u001b[1;31m---------------------------------------------------------------------------\u001b[0m",
      "\u001b[1;31mModuleNotFoundError\u001b[0m                       Traceback (most recent call last)",
      "\u001b[1;32m<ipython-input-11-afc480f05dac>\u001b[0m in \u001b[0;36m<module>\u001b[1;34m\u001b[0m\n\u001b[0;32m      3\u001b[0m \u001b[1;31m# import matplotlib.pyplot as plt\u001b[0m\u001b[1;33m\u001b[0m\u001b[1;33m\u001b[0m\u001b[1;33m\u001b[0m\u001b[0m\n\u001b[0;32m      4\u001b[0m \u001b[1;33m\u001b[0m\u001b[0m\n\u001b[1;32m----> 5\u001b[1;33m \u001b[1;32mimport\u001b[0m \u001b[0mtorch\u001b[0m\u001b[1;33m\u001b[0m\u001b[1;33m\u001b[0m\u001b[0m\n\u001b[0m\u001b[0;32m      6\u001b[0m \u001b[1;31m# import torch.nn as nn\u001b[0m\u001b[1;33m\u001b[0m\u001b[1;33m\u001b[0m\u001b[1;33m\u001b[0m\u001b[0m\n\u001b[0;32m      7\u001b[0m \u001b[1;31m# from torch.autograd import Variable\u001b[0m\u001b[1;33m\u001b[0m\u001b[1;33m\u001b[0m\u001b[1;33m\u001b[0m\u001b[0m\n",
      "\u001b[1;31mModuleNotFoundError\u001b[0m: No module named 'torch'"
     ]
    }
   ],
   "source": [
    "# import numpy as np\n",
    "# import pandas as pd\n",
    "# import matplotlib.pyplot as plt\n",
    "\n",
    "import torch\n",
    "# import torch.nn as nn\n",
    "# from torch.autograd import Variable\n",
    "\n",
    "# import torchvision\n",
    "# import torchvision.transforms as transforms\n",
    "# from torch.utils.data import Dataset, DataLoader\n",
    "# from sklearn.metrics import confusion_matrix"
   ]
  },
  {
   "cell_type": "code",
   "execution_count": null,
   "metadata": {
    "executionInfo": {
     "elapsed": 959,
     "status": "ok",
     "timestamp": 1608388609981,
     "user": {
      "displayName": "Giuseppe Iacono",
      "photoUrl": "",
      "userId": "10217054117557747336"
     },
     "user_tz": -60
    },
    "id": "kkHfpiO8CUtt"
   },
   "outputs": [],
   "source": [
    "train_set = load_mnist(dataset_path)"
   ]
  },
  {
   "cell_type": "code",
   "execution_count": null,
   "metadata": {
    "executionInfo": {
     "elapsed": 730,
     "status": "ok",
     "timestamp": 1608386006934,
     "user": {
      "displayName": "Giuseppe Iacono",
      "photoUrl": "",
      "userId": "10217054117557747336"
     },
     "user_tz": -60
    },
    "id": "12ZPzCMs1TA8"
   },
   "outputs": [],
   "source": [
    "device = torch.device(\"cuda:0\" if torch.cuda.is_available() else \"cpu\")"
   ]
  },
  {
   "cell_type": "code",
   "execution_count": null,
   "metadata": {
    "colab": {
     "base_uri": "https://localhost:8080/"
    },
    "executionInfo": {
     "elapsed": 629,
     "status": "ok",
     "timestamp": 1608391661372,
     "user": {
      "displayName": "Giuseppe Iacono",
      "photoUrl": "",
      "userId": "10217054117557747336"
     },
     "user_tz": -60
    },
    "id": "_MTwQkUApZqP",
    "outputId": "64e77f21-b865-40c4-adbf-a11bb11f23c0"
   },
   "outputs": [],
   "source": [
    "print(images_train.shape)\n",
    "x= images_train.reshape(60000, 28,28)\n",
    "print(x.shape)\n",
    "print(images_train)\n"
   ]
  },
  {
   "cell_type": "code",
   "execution_count": null,
   "metadata": {
    "colab": {
     "base_uri": "https://localhost:8080/",
     "height": 265
    },
    "executionInfo": {
     "elapsed": 906,
     "status": "ok",
     "timestamp": 1608390808229,
     "user": {
      "displayName": "Giuseppe Iacono",
      "photoUrl": "",
      "userId": "10217054117557747336"
     },
     "user_tz": -60
    },
    "id": "i5dQAO79Ckcz",
    "outputId": "c0906dca-6af5-43e1-c36c-bb26df3ec89b"
   },
   "outputs": [],
   "source": [
    "index=0 # change this number \n",
    "plt.imshow(x[index], cmap='gray') # printing 10th image\n",
    "plt.colorbar() # shows the bar on the right side of the image\n",
    "plt.grid(True) # will shot the grid\n",
    "plt.show()"
   ]
  },
  {
   "cell_type": "markdown",
   "metadata": {
    "id": "66ULx4jcsJvD"
   },
   "source": [
    "Domande da porsi:\n",
    "- Nel Dataloader vanno inseriti i dati grezzi o con il reshape fatto?\n",
    "- le label e le immagini dedovo essere messi all'interno dello stesso tensore? In base all esempio che fa il prof i dati sono nello stesso tensore"
   ]
  },
  {
   "cell_type": "code",
   "execution_count": null,
   "metadata": {
    "executionInfo": {
     "elapsed": 638,
     "status": "ok",
     "timestamp": 1608391678444,
     "user": {
      "displayName": "Giuseppe Iacono",
      "photoUrl": "",
      "userId": "10217054117557747336"
     },
     "user_tz": -60
    },
    "id": "xf5dl0ueeE8f"
   },
   "outputs": [],
   "source": [
    "random_seed = 1\n",
    "torch.manual_seed(random_seed)\n",
    "\n",
    "tf=torchvision.transforms.Compose([\n",
    "                    torchvision.transforms.ToTensor(),\n",
    "                    torchvision.transforms.Normalize(  (0.1307,), (0.3081,) )\n",
    "                    ])\n",
    "\n",
    "tf_noNorm=torchvision.transforms.Compose([\n",
    "                    torchvision.transforms.ToTensor()\n",
    "                     ])"
   ]
  },
  {
   "cell_type": "code",
   "execution_count": null,
   "metadata": {
    "executionInfo": {
     "elapsed": 665,
     "status": "ok",
     "timestamp": 1608392871068,
     "user": {
      "displayName": "Giuseppe Iacono",
      "photoUrl": "",
      "userId": "10217054117557747336"
     },
     "user_tz": -60
    },
    "id": "56yyVpareImm"
   },
   "outputs": [],
   "source": [
    "xttrain= tf_noNorm(images_train)\n",
    "xttest= tf_noNorm(images_test)"
   ]
  },
  {
   "cell_type": "code",
   "execution_count": null,
   "metadata": {
    "colab": {
     "base_uri": "https://localhost:8080/"
    },
    "executionInfo": {
     "elapsed": 608,
     "status": "ok",
     "timestamp": 1608391702401,
     "user": {
      "displayName": "Giuseppe Iacono",
      "photoUrl": "",
      "userId": "10217054117557747336"
     },
     "user_tz": -60
    },
    "id": "fD_C2kpIg_n_",
    "outputId": "0b595d27-5967-47d6-f263-85a346f87765"
   },
   "outputs": [],
   "source": [
    "print(x2, ds_train)"
   ]
  },
  {
   "cell_type": "code",
   "execution_count": null,
   "metadata": {
    "executionInfo": {
     "elapsed": 618,
     "status": "ok",
     "timestamp": 1608393544685,
     "user": {
      "displayName": "Giuseppe Iacono",
      "photoUrl": "",
      "userId": "10217054117557747336"
     },
     "user_tz": -60
    },
    "id": "HKgbZ8yVkfMS"
   },
   "outputs": [],
   "source": [
    "batch_size_train = 64\n",
    "train_loader = DataLoader(xttest, batch_size=batch_size_train)\n",
    "\n",
    "\n",
    "batch_size_test = 1000\n",
    "test_loader = DataLoader(xttest, batch_size=batch_size_test, shuffle=True)"
   ]
  },
  {
   "cell_type": "code",
   "execution_count": null,
   "metadata": {
    "executionInfo": {
     "elapsed": 624,
     "status": "ok",
     "timestamp": 1608393546771,
     "user": {
      "displayName": "Giuseppe Iacono",
      "photoUrl": "",
      "userId": "10217054117557747336"
     },
     "user_tz": -60
    },
    "id": "_MLM5l8T6rf5"
   },
   "outputs": [],
   "source": [
    "# carica tutto il dataset \n",
    "examples = enumerate(train_loader)\n",
    "batch_idx, example_data = next(examples)\n",
    "\n",
    "example_data= example_data.reshape(10000, 1, 28, 28)\n",
    "#Il formato e' (Numero_campioni, canali, dimensione_verticale, dimensione_orizzontale)\n"
   ]
  },
  {
   "cell_type": "code",
   "execution_count": null,
   "metadata": {
    "colab": {
     "base_uri": "https://localhost:8080/",
     "height": 309
    },
    "executionInfo": {
     "elapsed": 1704,
     "status": "ok",
     "timestamp": 1608394129575,
     "user": {
      "displayName": "Giuseppe Iacono",
      "photoUrl": "",
      "userId": "10217054117557747336"
     },
     "user_tz": -60
    },
    "id": "MII6f2mKsfki",
    "outputId": "1146212c-0293-4616-fd66-9079bbdc293f"
   },
   "outputs": [],
   "source": [
    "f, axs = plt.subplots(3,3)\n",
    "plt.tight_layout()\n",
    "k = 0\n",
    "for i in range(3):\n",
    "    for j in range(3):\n",
    "       \n",
    "        axs[i][j].imshow(example_data[k][0], cmap='gray', interpolation='none')\n",
    "        axs[i][j].set_title(\"Ground Truth: {}\".format(label_train[k]))\n",
    "        #axs[i][j].set_xticks([])\n",
    "        #axs[i][j].set_yticks([])\n",
    "        k += 1\n",
    "plt.show()"
   ]
  },
  {
   "cell_type": "markdown",
   "metadata": {
    "id": "Xni0tU4qwLhF"
   },
   "source": [
    "Architettura della rete\n",
    "La rete deve prendere in ingresso il vettore rappresentativo delle immagini e dare in output la classe della immagine, quindi:\n",
    "\n",
    "input\n",
    "28×28 \n",
    "\n",
    "output\n",
    "10 \n",
    "una uscita per ogni classe"
   ]
  },
  {
   "cell_type": "code",
   "execution_count": null,
   "metadata": {
    "executionInfo": {
     "elapsed": 618,
     "status": "ok",
     "timestamp": 1608394148813,
     "user": {
      "displayName": "Giuseppe Iacono",
      "photoUrl": "",
      "userId": "10217054117557747336"
     },
     "user_tz": -60
    },
    "id": "DP860Sd8wTTN"
   },
   "outputs": [],
   "source": [
    "import torch.nn as nn\n",
    "import torch.nn.functional as F\n",
    "# ottimizzatore\n",
    "import torch.optim as optim"
   ]
  },
  {
   "cell_type": "code",
   "execution_count": null,
   "metadata": {
    "executionInfo": {
     "elapsed": 774,
     "status": "ok",
     "timestamp": 1608394167360,
     "user": {
      "displayName": "Giuseppe Iacono",
      "photoUrl": "",
      "userId": "10217054117557747336"
     },
     "user_tz": -60
    },
    "id": "qJCMD2K3wxXt"
   },
   "outputs": [],
   "source": [
    "class Net(nn.Module):\n",
    "    def __init__(self):\n",
    "        super(Net, self).__init__()\n",
    "        self.conv1 = nn.Conv2d(1, 10, kernel_size=5)\n",
    "        self.conv2 = nn.Conv2d(10, 20, kernel_size=5)\n",
    "        self.conv2_drop = nn.Dropout2d()\n",
    "        self.fc1 = nn.Linear(320, 50)\n",
    "        self.fc2 = nn.Linear(50, 10)\n",
    "\n",
    "    def forward(self, x):\n",
    "        x = self.conv1(x)\n",
    "        x = F.max_pool2d(x, 2)\n",
    "        x = F.relu(x)\n",
    "        # x = F.relu(F.max_pool2d(self.conv2_drop(self.conv2(x)), 2))\n",
    "        x = self.conv2(x)\n",
    "        x = F.max_pool2d(x, 2)\n",
    "        x = F.relu(x)\n",
    "        x = x.view(-1, 320)\n",
    "        x = F.relu(self.fc1(x))\n",
    "        x = F.dropout(x, training=self.training)\n",
    "        x = self.fc2(x)\n",
    "        return F.log_softmax(x)"
   ]
  },
  {
   "cell_type": "code",
   "execution_count": null,
   "metadata": {
    "executionInfo": {
     "elapsed": 621,
     "status": "ok",
     "timestamp": 1608394305849,
     "user": {
      "displayName": "Giuseppe Iacono",
      "photoUrl": "",
      "userId": "10217054117557747336"
     },
     "user_tz": -60
    },
    "id": "-5_zsTdixEtL"
   },
   "outputs": [],
   "source": [
    "# Definiamo la Rete e l'ottimizzatore\n",
    "learning_rate = 0.01\n",
    "momentum = 0.5 \n",
    "\n",
    "network = Net()\n",
    "optimizer = optim.SGD(network.parameters(), lr=learning_rate, momentum=momentum)"
   ]
  },
  {
   "cell_type": "code",
   "execution_count": null,
   "metadata": {
    "colab": {
     "base_uri": "https://localhost:8080/"
    },
    "executionInfo": {
     "elapsed": 660,
     "status": "ok",
     "timestamp": 1608394310011,
     "user": {
      "displayName": "Giuseppe Iacono",
      "photoUrl": "",
      "userId": "10217054117557747336"
     },
     "user_tz": -60
    },
    "id": "WULTb8n1xVxj",
    "outputId": "87b51c7f-0ba1-4fc8-f282-089508c65a23"
   },
   "outputs": [],
   "source": [
    "print(network)"
   ]
  },
  {
   "cell_type": "code",
   "execution_count": null,
   "metadata": {
    "executionInfo": {
     "elapsed": 596,
     "status": "ok",
     "timestamp": 1608391291072,
     "user": {
      "displayName": "Giuseppe Iacono",
      "photoUrl": "",
      "userId": "10217054117557747336"
     },
     "user_tz": -60
    },
    "id": "SZkiEk_4nC0C"
   },
   "outputs": [],
   "source": [
    "n_epochs = 3\n",
    "\n",
    "log_interval = 50  # passo a cui salvare i dati di log"
   ]
  },
  {
   "cell_type": "code",
   "execution_count": null,
   "metadata": {
    "id": "zIWGQcEokfMS"
   },
   "outputs": [],
   "source": [
    "# definizione della routine di training \n",
    "# la routine esegue una eopca di training\n",
    "#La loss usata e' la negative log likelihood ```loss = F.nll_loss(output, target)``` che ha un senso perche' la uscita e' calcolata come ```F.log_softmax(x)``` e quindi e' interpretata come log-probability.\n",
    "def train(train_loader, epoch, bs_train, net, opt, dir_results, tr_ls, tr_ct):\n",
    "    net.train()\n",
    "\n",
    "    for batch_idx, (data, target) in enumerate(train_loader):\n",
    "        # si azzerao i gradienti\n",
    "        opt.zero_grad()\n",
    "        # si calcola l'output della rete\n",
    "        output = net(data)\n",
    "        # si calcola l'errore con la funzione di loss\n",
    "        loss = F.nll_loss(output, target)\n",
    "        # si calcolano i gradienti\n",
    "        loss.backward()\n",
    "        # l'ottimizzaotre segue il passo di aprendimento\n",
    "        opt.step()\n",
    "\n",
    "        # print e report.........................\n",
    "        if batch_idx % log_interval == 0:\n",
    "\n",
    "            num_campioni_elaborati = batch_idx * len(data)\n",
    "            num_campioni_totali = len(train_loader.dataset)\n",
    "                        \n",
    "            tr_ls.append(loss.item())\n",
    "\n",
    "            totale_campioni_elaborati =  (batch_idx*bs_train) + (epoch-1)*num_campioni_totali \n",
    "        \n",
    "            tr_ct.append( totale_campioni_elaborati )\n",
    "\n",
    "            print('Train Epoch: {} [{}/{}  ({:.0f}%)]  \\tLoss: {:.6f}'.format(\n",
    "                epoch, num_campioni_elaborati, num_campioni_totali , \n",
    "                100. * batch_idx / len(train_loader), \n",
    "                loss.item()\n",
    "                )\n",
    "            )\n",
    "\n",
    "            # salvataggio rete e ottimizzatore\n",
    "            torch.save(network.state_dict(), dir_results + 'model.pth')\n",
    "            torch.save(optimizer.state_dict(), dir_results + 'optimizer.pth')\n",
    "        # fine print e report.........................    \n",
    "         \n",
    "    return tr_ls, tr_ct"
   ]
  },
  {
   "cell_type": "code",
   "execution_count": null,
   "metadata": {
    "id": "6PexJMN6muJU"
   },
   "outputs": [],
   "source": [
    "# esegue un passo di test\n",
    "def test(tls, net, test_ld):\n",
    "\n",
    "    net.eval()\n",
    "    test_loss = 0\n",
    "    correct = 0\n",
    "\n",
    "    # evita che si calcolino i gradienti\n",
    "    with torch.no_grad():\n",
    "        # visto che i dati di test sono 10.000 e il batch_size_tset e' \n",
    "        # 1000 la valutazione e' divisa in 10 passi \n",
    "        for data, target in test_ld:\n",
    "            output = net(data)\n",
    "            test_loss += F.nll_loss(output, target, size_average=False).item()\n",
    "            pred = output.data.max(1, keepdim=True)[1]\n",
    "            correct += pred.eq(target.data.view_as(pred)).sum()\n",
    "\n",
    "    test_loss /= len(test_ld.dataset)\n",
    "    tls.append(test_loss)\n",
    "\n",
    "    print('\\nTest set: Avg. loss: {:.4f}, Accuracy: {}/{} ({:.0f}%)\\n'.format(\n",
    "        test_loss, correct, len(test_ld.dataset),\n",
    "        100. * correct / len(test_ld.dataset)))\n",
    "    return tls"
   ]
  },
  {
   "cell_type": "code",
   "execution_count": null,
   "metadata": {
    "executionInfo": {
     "elapsed": 644,
     "status": "ok",
     "timestamp": 1608388732672,
     "user": {
      "displayName": "Giuseppe Iacono",
      "photoUrl": "",
      "userId": "10217054117557747336"
     },
     "user_tz": -60
    },
    "id": "I_BY5SIJbdGc"
   },
   "outputs": [],
   "source": [
    "##STAND BY capire come trasformare il dataset\n",
    "\n",
    "labels = {0 : \"T-shirt/top\", 1: \"Trouser\", 2: \"Pullover\", 3: \"Dress\", 4: \"Coat\",\n",
    "          5: \"Sandal\", 6: \"Shirt\", 7: \"Sneaker\", 8: \"Bag\", 9: \"Ankle Boot\"}\n",
    "\n",
    "IMG_ROWS,IMG_COLS = 28,28\n",
    "NUM_CLASSES = 10\n",
    "TEST_SIZE = 0.2\n",
    "RANDOM_STATE = 2018\n",
    "#Model\n",
    "NO_EPOCHS = 50\n",
    "BATCH_SIZE = 128\n",
    "\n",
    "def sample_images_data(data):\n",
    "    # An empty list to collect some samples\n",
    "    sample_images = []\n",
    "    sample_labels = []\n",
    "\n",
    "    # Iterate over the keys of the labels dictionary defined in the above cell\n",
    "    for k in labels.keys():\n",
    "        # Get four samples for each category\n",
    "        samples = data[data[\"label\"] == k].head(4)\n",
    "        # Append the samples to the samples list\n",
    "        for j, s in enumerate(samples.values):\n",
    "            # First column contain labels, hence index should start from 1\n",
    "            img = np.array(samples.iloc[j, 1:]).reshape(IMG_ROWS,IMG_COLS)\n",
    "            sample_images.append(img)\n",
    "            sample_labels.append(samples.iloc[j, 0])\n",
    "\n",
    "    print(\"Total number of sample images to plot: \", len(sample_images))\n",
    "    return sample_images, sample_labels"
   ]
  },
  {
   "cell_type": "code",
   "execution_count": null,
   "metadata": {
    "colab": {
     "base_uri": "https://localhost:8080/",
     "height": 333
    },
    "executionInfo": {
     "elapsed": 658,
     "status": "error",
     "timestamp": 1608389034932,
     "user": {
      "displayName": "Giuseppe Iacono",
      "photoUrl": "",
      "userId": "10217054117557747336"
     },
     "user_tz": -60
    },
    "id": "SI8Ey4FgbDnJ",
    "outputId": "dbf4a775-0d27-4a83-b9c5-be15921a26a9"
   },
   "outputs": [],
   "source": [
    "##STAND BY capire come trasformare il dataset\n",
    "\n",
    "def plot_sample_images(data_sample_images,data_sample_labels,cmap=\"Grey\"):\n",
    "    # Plot the sample images now\n",
    "    f, ax = plt.subplots(5,8, figsize=(16,10))\n",
    "\n",
    "    for i, img in enumerate(data_sample_images):\n",
    "        ax[i//8, i%8].imshow(img, cmap=cmap)\n",
    "        ax[i//8, i%8].axis('off')\n",
    "        ax[i//8, i%8].set_title(labels[data_sample_labels[i]])\n",
    "    plt.show()    \n",
    "    \n",
    "train_sample_images, train_sample_labels = sample_images_data()\n",
    "plot_sample_images(train_sample_images,train_sample_labels, \"Greens\")"
   ]
  }
 ],
 "metadata": {
  "colab": {
   "collapsed_sections": [],
   "name": "Lettura.ipynb",
   "provenance": [],
   "toc_visible": true
  },
  "kernelspec": {
   "display_name": "Python 3",
   "language": "python",
   "name": "python3"
  },
  "language_info": {
   "codemirror_mode": {
    "name": "ipython",
    "version": 3
   },
   "file_extension": ".py",
   "mimetype": "text/x-python",
   "name": "python",
   "nbconvert_exporter": "python",
   "pygments_lexer": "ipython3",
   "version": "3.7.6"
  }
 },
 "nbformat": 4,
 "nbformat_minor": 1
}
